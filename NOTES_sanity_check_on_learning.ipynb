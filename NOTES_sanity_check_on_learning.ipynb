{
 "cells": [
  {
   "cell_type": "markdown",
   "id": "f84b6cc9",
   "metadata": {},
   "source": [
    "list = [list of objects]\n",
    "dictionary = {'index': 'list'}\n",
    "array = list of objects in numpy \n",
    "field = column list\n",
    "Series = column array\n",
    "DataFrame = multiple Series of arrays\n",
    "\n",
    "methods = verbs take action on objects\n",
    "functions = verbs take action on objects\n",
    "variables = nouns that hold what you define\n",
    "attributes = adjectives that hold description of objects\n",
    "\n",
    "function\n",
    "max(list)\n",
    "\n",
    "method\n",
    "array.max()\n",
    "\n",
    "attribute needs no () and lives on an object\n",
    ".shape\n",
    ".index\n",
    "\n",
    "functions --> methods --> act on objects\n",
    "variables --> attributes --> live on objects\n",
    "\n"
   ]
  }
 ],
 "metadata": {
  "kernelspec": {
   "display_name": "Python 3 (ipykernel)",
   "language": "python",
   "name": "python3"
  },
  "language_info": {
   "codemirror_mode": {
    "name": "ipython",
    "version": 3
   },
   "file_extension": ".py",
   "mimetype": "text/x-python",
   "name": "python",
   "nbconvert_exporter": "python",
   "pygments_lexer": "ipython3",
   "version": "3.9.12"
  }
 },
 "nbformat": 4,
 "nbformat_minor": 5
}
