{
 "cells": [
  {
   "cell_type": "markdown",
   "id": "ed984866",
   "metadata": {},
   "source": [
    "Creating Reports in Weights & Biases [wandb.me/yannic](https://wandb.ai/wandb_fc/partners/reports/Welcome-Yannic-Fans---VmlldzoyNDg3NTQy?utm_source=youtube&utm_medium=video&utm_campaign=yannic&utm_content=yannic_landing_page)\n",
    "\n",
    "Machine learning experiment tracking\n",
    "\n",
    "[YouTube](https://youtu.be/0A8ljAkdFtg)\n",
    "\n",
    "https://docs.wandb.ai/guides/reports/create-a-report"
   ]
  },
  {
   "cell_type": "markdown",
   "id": "79d24460",
   "metadata": {},
   "source": [
    "[ChatGPT](https://www.chat.openai.com/chat)\n",
    "\n",
    "[YouTube](https://youtu.be/B7Om_b4evdA)"
   ]
  },
  {
   "cell_type": "code",
   "execution_count": 2,
   "id": "6ab3a5c0",
   "metadata": {
    "scrolled": true
   },
   "outputs": [
    {
     "ename": "ModuleNotFoundError",
     "evalue": "No module named 'wandb'",
     "output_type": "error",
     "traceback": [
      "\u001b[0;31m---------------------------------------------------------------------------\u001b[0m",
      "\u001b[0;31mModuleNotFoundError\u001b[0m                       Traceback (most recent call last)",
      "Input \u001b[0;32mIn [2]\u001b[0m, in \u001b[0;36m<cell line: 1>\u001b[0;34m()\u001b[0m\n\u001b[0;32m----> 1\u001b[0m \u001b[38;5;28;01mimport\u001b[39;00m \u001b[38;5;21;01mwandb\u001b[39;00m\n\u001b[1;32m      2\u001b[0m \u001b[38;5;28;01mimport\u001b[39;00m \u001b[38;5;21;01mwandb\u001b[39;00m\u001b[38;5;21;01m.\u001b[39;00m\u001b[38;5;21;01mapis\u001b[39;00m\u001b[38;5;21;01m.\u001b[39;00m\u001b[38;5;21;01mreports\u001b[39;00m \u001b[38;5;28;01mas\u001b[39;00m \u001b[38;5;21;01mwr\u001b[39;00m\n",
      "\u001b[0;31mModuleNotFoundError\u001b[0m: No module named 'wandb'"
     ]
    }
   ],
   "source": [
    "import wandb\n",
    "import wandb.apis.reports as wr"
   ]
  },
  {
   "cell_type": "code",
   "execution_count": null,
   "id": "bd910032",
   "metadata": {},
   "outputs": [],
   "source": [
    "report = wr.Report(project='report-api-quickstart',)\n",
    "report.save()\n",
    "wr.Report.from_url(report.url)"
   ]
  },
  {
   "cell_type": "code",
   "execution_count": null,
   "id": "98d611f5",
   "metadata": {},
   "outputs": [],
   "source": [
    "report.blocks = [\n",
    "    wr.TableOfContents(),\n",
    "    wr.H1(\"Text and Images example\"),\n",
    "    wr.P(\"Lorem ipsum dollar sit amet.\"),\n",
    "    wr.Image(\"https://api.wandb.ai/files/telidavies/images/projects/831572\"),\n",
    "    wr.P(\"Words go here in the form od sentences and paragraphs.\")\n",
    "]\n",
    "report.save()"
   ]
  }
 ],
 "metadata": {
  "kernelspec": {
   "display_name": "Python 3 (ipykernel)",
   "language": "python",
   "name": "python3"
  },
  "language_info": {
   "codemirror_mode": {
    "name": "ipython",
    "version": 3
   },
   "file_extension": ".py",
   "mimetype": "text/x-python",
   "name": "python",
   "nbconvert_exporter": "python",
   "pygments_lexer": "ipython3",
   "version": "3.9.12"
  }
 },
 "nbformat": 4,
 "nbformat_minor": 5
}
